{
 "cells": [
  {
   "cell_type": "code",
   "execution_count": 1,
   "metadata": {},
   "outputs": [
    {
     "name": "stdout",
     "output_type": "stream",
     "text": [
      "GATACCA\n"
     ]
    }
   ],
   "source": [
    "!cat data/dna.txt"
   ]
  },
  {
   "cell_type": "code",
   "execution_count": 3,
   "metadata": {},
   "outputs": [
    {
     "name": "stdout",
     "output_type": "stream",
     "text": [
      "/home/pvh/anaconda3/bin/cwl-runner 1.0.20180518123035\n",
      "Resolved 'revcomp/revcomp.cwl' to 'file:///home/pvh/Documents/SANBI/biocourse2017/cwltutorial/revcomp/revcomp.cwl'\n",
      "[workflow revcomp.cwl] start\n",
      "[step reverse] start\n",
      "[job reverse] /tmp/tmpl98f1mid$ docker \\\n",
      "    run \\\n",
      "    -i \\\n",
      "    --volume=/tmp/tmpl98f1mid:/var/spool/cwl:rw \\\n",
      "    --volume=/tmp/tmpjhapzem3:/tmp:rw \\\n",
      "    --volume=/home/pvh/Documents/SANBI/biocourse2017/cwltutorial/data/dna.txt:/var/lib/cwl/stg8835fcd3-5089-4481-ba21-94ef46f7f045/dna.txt:ro \\\n",
      "    --workdir=/var/spool/cwl \\\n",
      "    --read-only=true \\\n",
      "    --log-driver=none \\\n",
      "    --user=1000:1000 \\\n",
      "    --rm \\\n",
      "    --env=TMPDIR=/tmp \\\n",
      "    --env=HOME=/var/spool/cwl \\\n",
      "    pvanheus/reverse:latest \\\n",
      "    reverse.py \\\n",
      "    /var/lib/cwl/stg8835fcd3-5089-4481-ba21-94ef46f7f045/dna.txt > /tmp/tmpl98f1mid/dna_reversed.txt\n",
      "[job reverse] completed success\n",
      "[step reverse] completed success\n",
      "[step complement] start\n",
      "[job complement] /tmp/tmp6ln38az6$ docker \\\n",
      "    run \\\n",
      "    -i \\\n",
      "    --volume=/tmp/tmp6ln38az6:/var/spool/cwl:rw \\\n",
      "    --volume=/tmp/tmpkhpbkdhu:/tmp:rw \\\n",
      "    --volume=/tmp/tmpl98f1mid/dna_reversed.txt:/var/lib/cwl/stg8203959e-953b-45d0-b800-8c61fe71f871/dna_reversed.txt:ro \\\n",
      "    --workdir=/var/spool/cwl \\\n",
      "    --read-only=true \\\n",
      "    --log-driver=none \\\n",
      "    --user=1000:1000 \\\n",
      "    --rm \\\n",
      "    --env=TMPDIR=/tmp \\\n",
      "    --env=HOME=/var/spool/cwl \\\n",
      "    pvanheus/complement:latest \\\n",
      "    complement.py \\\n",
      "    /var/lib/cwl/stg8203959e-953b-45d0-b800-8c61fe71f871/dna_reversed.txt > /tmp/tmp6ln38az6/dna_reversed_complement.txt\n",
      "[job complement] completed success\n",
      "[step complement] completed success\n",
      "[workflow revcomp.cwl] completed success\n",
      "{\n",
      "    \"revcomp_dnafile\": {\n",
      "        \"checksum\": \"sha1$732a7007d7add19d6e1195fef673b14582ead935\",\n",
      "        \"path\": \"/home/pvh/Documents/SANBI/biocourse2017/cwltutorial/dna_reversed_complement.txt\",\n",
      "        \"location\": \"file:///home/pvh/Documents/SANBI/biocourse2017/cwltutorial/dna_reversed_complement.txt\",\n",
      "        \"basename\": \"dna_reversed_complement.txt\",\n",
      "        \"class\": \"File\",\n",
      "        \"size\": 8\n",
      "    }\n",
      "}\n",
      "Final process status is success\n"
     ]
    }
   ],
   "source": [
    "!cwl-runner revcomp/revcomp.cwl --infile data/dna.txt"
   ]
  },
  {
   "cell_type": "code",
   "execution_count": 4,
   "metadata": {},
   "outputs": [
    {
     "name": "stdout",
     "output_type": "stream",
     "text": [
      "TGGTATC\n"
     ]
    }
   ],
   "source": [
    "!cat dna_reversed_complement.txt"
   ]
  },
  {
   "cell_type": "code",
   "execution_count": null,
   "metadata": {},
   "outputs": [],
   "source": []
  }
 ],
 "metadata": {
  "kernelspec": {
   "display_name": "Python [Root]",
   "language": "python",
   "name": "Python [Root]"
  },
  "language_info": {
   "codemirror_mode": {
    "name": "ipython",
    "version": 3
   },
   "file_extension": ".py",
   "mimetype": "text/x-python",
   "name": "python",
   "nbconvert_exporter": "python",
   "pygments_lexer": "ipython3",
   "version": "3.5.4"
  }
 },
 "nbformat": 4,
 "nbformat_minor": 2
}
